{
 "cells": [
  {
   "cell_type": "markdown",
   "id": "2dbb7159",
   "metadata": {},
   "source": [
    "# Procesamiento de datos obtenidos en corrida final del experimento sobre gestualidad didáctica\n",
    "\n",
    "José Luis Sánchez G.\n",
    "Maestría en Lingüística aplicada, UNAM\n",
    "jlsanchez@comunidad.unam.mx\n",
    "\n",
    "Ésta es una versión ejecutalbe del procedimiento llevado a cabo para analizar los datos obtenidos en el experimento hecho en diciembre 2021 con estudiantes de alemán de la FES Cuautitlán como parte de un trabajo de titulación de la Maestría en Lingüística Aplicada del Programa de Posgrado en Língüística de la UNAM."
   ]
  },
  {
   "cell_type": "markdown",
   "id": "54f9786b",
   "metadata": {},
   "source": [
    "### Importación de módulos"
   ]
  },
  {
   "cell_type": "code",
   "execution_count": 1,
   "id": "2bf43934",
   "metadata": {},
   "outputs": [],
   "source": [
    "### Se importan los módulos de extracción y procesamiento de datos del archivo xml descargado de Qualtrics\n",
    "## Se importa el parser para leer el archivo xml\n",
    "from bs4 import BeautifulSoup\n",
    "## Biblioteca para plotear los resultados\n",
    "from matplotlib import pyplot as plt\n",
    "## Biblioteca para moverse entre directorios\n",
    "import os\n",
    "## Biblioteca para extraer expresiones regulares\n",
    "import re\n",
    "## Biblioteca de python para análisis de datos\n",
    "import pandas\n"
   ]
  },
  {
   "cell_type": "markdown",
   "id": "bb5637fb",
   "metadata": {},
   "source": [
    "### Obtención de las etiquetas de pregunta y los textos de los reactivos principales"
   ]
  },
  {
   "cell_type": "code",
   "execution_count": 2,
   "id": "74788395",
   "metadata": {},
   "outputs": [
    {
     "name": "stdout",
     "output_type": "stream",
     "text": [
      "[' Ich bereite ein Sandwich vor.', ' Johann steht um sechs Uhr auf.', ' Ich ziehe mich schnell an.']\n"
     ]
    }
   ],
   "source": [
    "### Se prepara el dataframe con las preguntas que se utilizarán\n",
    "textoPreguntas = pandas.read_csv('textoPreguntas.csv')\n",
    "## Se obtienen las claves de cada pregunta\n",
    "ID = textoPreguntas['ID']\n",
    "## Se obtiene el texto de las preguntas\n",
    "text = textoPreguntas ['texto']\n",
    "texto1 = text[3]\n",
    "texto2 = text[10]\n",
    "texto3 = text[12]\n",
    "## Se guarda en una lista texto de los tres reactivos principales\n",
    "texto = []\n",
    "texto.append(texto1)\n",
    "texto.append(texto2)\n",
    "texto.append(texto3)\n",
    "\n",
    "print (texto)"
   ]
  },
  {
   "cell_type": "markdown",
   "id": "0380db81",
   "metadata": {},
   "source": [
    "### Apertura y conversión de archivo xml para su lectura por medio del parser "
   ]
  },
  {
   "cell_type": "code",
   "execution_count": 3,
   "id": "1a9813bd",
   "metadata": {},
   "outputs": [],
   "source": [
    "with open ('Gestualidad+didáctica+en+la+enseñanza+de+los+verbos+separables+en+la+clase+de+ALE+Condición+SG_December+16,+2021SinCandidatosQueNoVieronVideo.xml', 'r') as f:\n",
    "     data = f.read()\n",
    "\n",
    "bs_data = BeautifulSoup(data, 'xml')"
   ]
  },
  {
   "cell_type": "markdown",
   "id": "9470a685",
   "metadata": {},
   "source": [
    "### Función para determinar la condición a la que se expusieron los participantes"
   ]
  },
  {
   "cell_type": "code",
   "execution_count": 5,
   "id": "9269ff23",
   "metadata": {},
   "outputs": [
    {
     "name": "stdout",
     "output_type": "stream",
     "text": [
      "CondicionG:  17\n",
      "CondicionSG:  11\n"
     ]
    }
   ],
   "source": [
    "def tellsConditionsApart():\n",
    "    umstaende = bs_data.find_all('QID202')\n",
    "    condicionG = []\n",
    "    condicionSG = []\n",
    "\n",
    "    etiqueta = 'QID202'\n",
    "\n",
    "    for indice, dato in enumerate(umstaende):\n",
    "        valor = str(dato)\n",
    "        if valor == f'<{etiqueta}>Aus Dortmund.</{etiqueta}>':\n",
    "            condicionSG.append(indice)\n",
    "        elif valor == f'<{etiqueta}>Aus Berlin.</{etiqueta}>':\n",
    "            condicionSG.append(indice)\n",
    "        elif valor == f'<{etiqueta}>Aus Hamburg.</{etiqueta}>':\n",
    "            condicionSG.append(indice)\n",
    "        else:\n",
    "            condicionG.append(indice)\n",
    "    # print ('Participantes en condicion G:', condicionG)\n",
    "    # print ('Participantes en condicion SG:', condicionSG)\n",
    "    return condicionG, condicionSG\n",
    "\n",
    "condicionG, condicionSG = tellsConditionsApart()\n",
    "\n",
    "print ('CondicionG: ', len(condicionG))\n",
    "print ('CondicionSG: ', len(condicionSG))"
   ]
  },
  {
   "cell_type": "markdown",
   "id": "87900626",
   "metadata": {},
   "source": [
    "### Combina las listas resultantes de candidatos según la condición a la que fueron expuestos"
   ]
  },
  {
   "cell_type": "code",
   "execution_count": 6,
   "id": "ff60ae88",
   "metadata": {},
   "outputs": [
    {
     "name": "stdout",
     "output_type": "stream",
     "text": [
      "Combinada:  [0, 1, 2, 3, 4, 5, 6, 7, 8, 9, 10, 11, 12, 13, 14, 15, 16, 17, 18, 19, 20, 21, 22, 23, 24, 25, 26, 27]\n"
     ]
    }
   ],
   "source": [
    "combinada = condicionG + condicionSG\n",
    "combinada.sort()\n",
    "\n",
    "print ('Combinada: ', combinada)"
   ]
  },
  {
   "cell_type": "markdown",
   "id": "cee50ec4",
   "metadata": {},
   "source": [
    "### Declaración de las etiquetas identificadoras de las tres preguntas de interés en pre- y post-test"
   ]
  },
  {
   "cell_type": "code",
   "execution_count": 7,
   "id": "a739696b",
   "metadata": {},
   "outputs": [],
   "source": [
    "# etiquetasPretest = ['QID94_45', 'QID97_1', 'QID95_1', 'QID98_1', 'QID99_1', 'QID100_1',\n",
    "# 'QID101_1', 'QID102_1','QID103_1','QID104_1','QID105_1','QID106_1','QID107_15',\n",
    "# 'QID108_1','QID109_1']\n",
    "\n",
    "etiquetasPretestDeInteres = ['QID98_1','QID105_1','QID107_15']\n",
    "\n",
    "# etiquetasPosttest = ['QID187_45', 'QID188_1', 'QID189_1', 'QID190_1', 'QID191_1',\n",
    "# 'QID192_1', 'QID193_1', 'QID194_1', 'QID195_1', 'QID196_1', 'QID197_1', 'QID198_1',\n",
    "# 'QID199_15', 'QID200_1', 'QID201_1']\n",
    "\n",
    "etiquetasPosttestDeInteres = ['QID190_1','QID197_1','QID199_15']"
   ]
  },
  {
   "cell_type": "markdown",
   "id": "0c7064c7",
   "metadata": {},
   "source": [
    "### Función para extraer las respuestas dadas por los participantes según la condición a la que fueron expuestos"
   ]
  },
  {
   "cell_type": "code",
   "execution_count": 8,
   "id": "f0cde5ad",
   "metadata": {},
   "outputs": [],
   "source": [
    "def extraeDatos (etiqueta, condicion):\n",
    "    respuestas = []\n",
    "    print (etiqueta)\n",
    "    datos = bs_data.find_all(etiqueta)\n",
    "    for indice, dato in enumerate(datos):\n",
    "        if indice in condicion:\n",
    "            valor = str(dato)\n",
    "            print (valor)\n",
    "            #limpio = valor.strip(f'<{etiqueta}>').strip(f'</{etiqueta}>')\n",
    "            if valor == f'<{etiqueta}>1</{etiqueta}>':\n",
    "                respuestas.append(1)\n",
    "            elif valor == f'<{etiqueta}>2</{etiqueta}>':\n",
    "                respuestas.append(2)\n",
    "            elif valor == f'<{etiqueta}>3</{etiqueta}>':\n",
    "                respuestas.append(3)\n",
    "            elif valor == f'<{etiqueta}>4</{etiqueta}>':\n",
    "                respuestas.append(4)        # elif valor == '5':\n",
    "            elif valor == f'<{etiqueta}>5</{etiqueta}>':\n",
    "                respuestas.append(5)\n",
    "            # elif valor == f'<{etiqueta}>\"\"</{etiqueta}>':\n",
    "            #     respuestas.append(0)\n",
    "            # else:\n",
    "            #     pass\n",
    "    print (respuestas)\n",
    "    print ('+++++++++++++++++++++++++++++++')\n",
    "    return respuestas"
   ]
  },
  {
   "cell_type": "markdown",
   "id": "c14c1760",
   "metadata": {},
   "source": [
    "### Programa para extraer y graficar las respuestas"
   ]
  },
  {
   "cell_type": "code",
   "execution_count": 10,
   "id": "3a731cad",
   "metadata": {},
   "outputs": [
    {
     "name": "stdout",
     "output_type": "stream",
     "text": [
      "+++++++++++++++++++GRÁFICAS DE LA CONDICIÓN SG+++++++++++++++++++ \n",
      "\n",
      "\n",
      "\n",
      "\n",
      "\n",
      "QID190_1\n",
      "<QID190_1>5</QID190_1>\n",
      "<QID190_1>5</QID190_1>\n",
      "<QID190_1>5</QID190_1>\n",
      "<QID190_1>5</QID190_1>\n",
      "<QID190_1>2</QID190_1>\n",
      "<QID190_1>4</QID190_1>\n",
      "<QID190_1>4</QID190_1>\n",
      "<QID190_1>4</QID190_1>\n",
      "<QID190_1>5</QID190_1>\n",
      "<QID190_1>1</QID190_1>\n",
      "<QID190_1>5</QID190_1>\n",
      "[5, 5, 5, 5, 2, 4, 4, 4, 5, 1, 5]\n",
      "+++++++++++++++++++++++++++++++\n",
      "QID98_1\n",
      "<QID98_1>3</QID98_1>\n",
      "<QID98_1>5</QID98_1>\n",
      "<QID98_1>1</QID98_1>\n",
      "<QID98_1>4</QID98_1>\n",
      "<QID98_1>1</QID98_1>\n",
      "<QID98_1>3</QID98_1>\n",
      "<QID98_1>3</QID98_1>\n",
      "<QID98_1>4</QID98_1>\n",
      "<QID98_1>3</QID98_1>\n",
      "<QID98_1>1</QID98_1>\n",
      "<QID98_1>2</QID98_1>\n",
      "[3, 5, 1, 4, 1, 3, 3, 4, 3, 1, 2]\n",
      "+++++++++++++++++++++++++++++++\n"
     ]
    },
    {
     "data": {
      "image/png": "[encoded data removed]",
      "text/plain": [
       "<Figure size 432x288 with 1 Axes>"
      ]
     },
     "metadata": {
      "needs_background": "light"
     },
     "output_type": "display_data"
    },
    {
     "name": "stdout",
     "output_type": "stream",
     "text": [
      "QID197_1\n",
      "<QID197_1>5</QID197_1>\n",
      "<QID197_1>5</QID197_1>\n",
      "<QID197_1>4</QID197_1>\n",
      "<QID197_1>5</QID197_1>\n",
      "<QID197_1>5</QID197_1>\n",
      "<QID197_1>3</QID197_1>\n",
      "<QID197_1>4</QID197_1>\n",
      "<QID197_1>3</QID197_1>\n",
      "<QID197_1>5</QID197_1>\n",
      "<QID197_1>1</QID197_1>\n",
      "<QID197_1>5</QID197_1>\n",
      "[5, 5, 4, 5, 5, 3, 4, 3, 5, 1, 5]\n",
      "+++++++++++++++++++++++++++++++\n",
      "QID105_1\n",
      "<QID105_1>5</QID105_1>\n",
      "<QID105_1>3</QID105_1>\n",
      "<QID105_1>3</QID105_1>\n",
      "<QID105_1>3</QID105_1>\n",
      "<QID105_1>4</QID105_1>\n",
      "<QID105_1>5</QID105_1>\n",
      "<QID105_1>4</QID105_1>\n",
      "<QID105_1>4</QID105_1>\n",
      "<QID105_1>2</QID105_1>\n",
      "<QID105_1>3</QID105_1>\n",
      "<QID105_1>2</QID105_1>\n",
      "[5, 3, 3, 3, 4, 5, 4, 4, 2, 3, 2]\n",
      "+++++++++++++++++++++++++++++++\n"
     ]
    },
    {
     "data": {
      "image/png": "[encoded data removed]",
      "text/plain": [
       "<Figure size 432x288 with 1 Axes>"
      ]
     },
     "metadata": {
      "needs_background": "light"
     },
     "output_type": "display_data"
    },
    {
     "name": "stdout",
     "output_type": "stream",
     "text": [
      "QID199_15\n",
      "<QID199_15>2</QID199_15>\n",
      "<QID199_15>5</QID199_15>\n",
      "<QID199_15>2</QID199_15>\n",
      "<QID199_15>5</QID199_15>\n",
      "<QID199_15>1</QID199_15>\n",
      "<QID199_15>2</QID199_15>\n",
      "<QID199_15>3</QID199_15>\n",
      "<QID199_15>2</QID199_15>\n",
      "<QID199_15>1</QID199_15>\n",
      "<QID199_15>2</QID199_15>\n",
      "<QID199_15>2</QID199_15>\n",
      "[2, 5, 2, 5, 1, 2, 3, 2, 1, 2, 2]\n",
      "+++++++++++++++++++++++++++++++\n",
      "QID107_15\n",
      "<QID107_15>4</QID107_15>\n",
      "<QID107_15>5</QID107_15>\n",
      "<QID107_15>1</QID107_15>\n",
      "<QID107_15>3</QID107_15>\n",
      "<QID107_15>1</QID107_15>\n",
      "<QID107_15>3</QID107_15>\n",
      "<QID107_15>3</QID107_15>\n",
      "<QID107_15>3</QID107_15>\n",
      "<QID107_15>3</QID107_15>\n",
      "<QID107_15>2</QID107_15>\n",
      "<QID107_15>2</QID107_15>\n",
      "[4, 5, 1, 3, 1, 3, 3, 3, 3, 2, 2]\n",
      "+++++++++++++++++++++++++++++++\n"
     ]
    },
    {
     "data": {
      "image/png": "[encoded data removed]",
      "text/plain": [
       "<Figure size 432x288 with 1 Axes>"
      ]
     },
     "metadata": {
      "needs_background": "light"
     },
     "output_type": "display_data"
    },
    {
     "name": "stdout",
     "output_type": "stream",
     "text": [
      "+++++++++++++++++++GRÁFICAS DE LA CONDICIÓN G+++++++++++++++++++ \n",
      "\n",
      "\n",
      "\n",
      "\n",
      "\n",
      "QID190_1\n",
      "<QID190_1/>\n",
      "<QID190_1>5</QID190_1>\n",
      "<QID190_1>5</QID190_1>\n",
      "<QID190_1>5</QID190_1>\n",
      "<QID190_1>5</QID190_1>\n",
      "<QID190_1/>\n",
      "<QID190_1/>\n",
      "<QID190_1>5</QID190_1>\n",
      "<QID190_1>4</QID190_1>\n",
      "<QID190_1>5</QID190_1>\n",
      "<QID190_1>5</QID190_1>\n",
      "<QID190_1>5</QID190_1>\n",
      "<QID190_1>5</QID190_1>\n",
      "<QID190_1>4</QID190_1>\n",
      "<QID190_1>5</QID190_1>\n",
      "<QID190_1>5</QID190_1>\n",
      "<QID190_1/>\n",
      "[5, 5, 5, 5, 5, 4, 5, 5, 5, 5, 4, 5, 5]\n",
      "+++++++++++++++++++++++++++++++\n",
      "QID98_1\n",
      "<QID98_1/>\n",
      "<QID98_1>1</QID98_1>\n",
      "<QID98_1>3</QID98_1>\n",
      "<QID98_1>4</QID98_1>\n",
      "<QID98_1>5</QID98_1>\n",
      "<QID98_1/>\n",
      "<QID98_1/>\n",
      "<QID98_1>5</QID98_1>\n",
      "<QID98_1>4</QID98_1>\n",
      "<QID98_1>4</QID98_1>\n",
      "<QID98_1>5</QID98_1>\n",
      "<QID98_1>1</QID98_1>\n",
      "<QID98_1>5</QID98_1>\n",
      "<QID98_1>2</QID98_1>\n",
      "<QID98_1>3</QID98_1>\n",
      "<QID98_1>5</QID98_1>\n",
      "<QID98_1/>\n",
      "[1, 3, 4, 5, 5, 4, 4, 5, 1, 5, 2, 3, 5]\n",
      "+++++++++++++++++++++++++++++++\n"
     ]
    },
    {
     "data": {
      "image/png": "[encoded data removed]",
      "text/plain": [
       "<Figure size 432x288 with 1 Axes>"
      ]
     },
     "metadata": {
      "needs_background": "light"
     },
     "output_type": "display_data"
    },
    {
     "name": "stdout",
     "output_type": "stream",
     "text": [
      "QID197_1\n",
      "<QID197_1/>\n",
      "<QID197_1>5</QID197_1>\n",
      "<QID197_1>5</QID197_1>\n",
      "<QID197_1>5</QID197_1>\n",
      "<QID197_1>5</QID197_1>\n",
      "<QID197_1/>\n",
      "<QID197_1/>\n",
      "<QID197_1>5</QID197_1>\n",
      "<QID197_1>5</QID197_1>\n",
      "<QID197_1>5</QID197_1>\n",
      "<QID197_1>5</QID197_1>\n",
      "<QID197_1>5</QID197_1>\n",
      "<QID197_1>5</QID197_1>\n",
      "<QID197_1>4</QID197_1>\n",
      "<QID197_1>5</QID197_1>\n",
      "<QID197_1>3</QID197_1>\n",
      "<QID197_1/>\n",
      "[5, 5, 5, 5, 5, 5, 5, 5, 5, 5, 4, 5, 3]\n",
      "+++++++++++++++++++++++++++++++\n",
      "QID105_1\n",
      "<QID105_1/>\n",
      "<QID105_1>2</QID105_1>\n",
      "<QID105_1>4</QID105_1>\n",
      "<QID105_1>5</QID105_1>\n",
      "<QID105_1>1</QID105_1>\n",
      "<QID105_1/>\n",
      "<QID105_1/>\n",
      "<QID105_1>1</QID105_1>\n",
      "<QID105_1>4</QID105_1>\n",
      "<QID105_1>5</QID105_1>\n",
      "<QID105_1>4</QID105_1>\n",
      "<QID105_1>3</QID105_1>\n",
      "<QID105_1>5</QID105_1>\n",
      "<QID105_1>4</QID105_1>\n",
      "<QID105_1>1</QID105_1>\n",
      "<QID105_1>5</QID105_1>\n",
      "<QID105_1/>\n",
      "[2, 4, 5, 1, 1, 4, 5, 4, 3, 5, 4, 1, 5]\n",
      "+++++++++++++++++++++++++++++++\n"
     ]
    },
    {
     "data": {
      "image/png": "[encoded data removed]",
      "text/plain": [
       "<Figure size 432x288 with 1 Axes>"
      ]
     },
     "metadata": {
      "needs_background": "light"
     },
     "output_type": "display_data"
    },
    {
     "name": "stdout",
     "output_type": "stream",
     "text": [
      "QID199_15\n",
      "<QID199_15/>\n",
      "<QID199_15>5</QID199_15>\n",
      "<QID199_15>5</QID199_15>\n",
      "<QID199_15>5</QID199_15>\n",
      "<QID199_15>5</QID199_15>\n",
      "<QID199_15/>\n",
      "<QID199_15/>\n",
      "<QID199_15>5</QID199_15>\n",
      "<QID199_15>3</QID199_15>\n",
      "<QID199_15>5</QID199_15>\n",
      "<QID199_15>5</QID199_15>\n",
      "<QID199_15>5</QID199_15>\n",
      "<QID199_15>5</QID199_15>\n",
      "<QID199_15>5</QID199_15>\n",
      "<QID199_15>5</QID199_15>\n",
      "<QID199_15>5</QID199_15>\n",
      "<QID199_15/>\n",
      "[5, 5, 5, 5, 5, 3, 5, 5, 5, 5, 5, 5, 5]\n",
      "+++++++++++++++++++++++++++++++\n",
      "QID107_15\n",
      "<QID107_15/>\n",
      "<QID107_15>5</QID107_15>\n",
      "<QID107_15>2</QID107_15>\n",
      "<QID107_15>5</QID107_15>\n",
      "<QID107_15>2</QID107_15>\n",
      "<QID107_15/>\n",
      "<QID107_15/>\n",
      "<QID107_15>4</QID107_15>\n",
      "<QID107_15>3</QID107_15>\n",
      "<QID107_15>5</QID107_15>\n",
      "<QID107_15>2</QID107_15>\n",
      "<QID107_15>1</QID107_15>\n",
      "<QID107_15>5</QID107_15>\n",
      "<QID107_15>4</QID107_15>\n",
      "<QID107_15>5</QID107_15>\n",
      "<QID107_15>2</QID107_15>\n",
      "<QID107_15/>\n",
      "[5, 2, 5, 2, 4, 3, 5, 2, 1, 5, 4, 5, 2]\n",
      "+++++++++++++++++++++++++++++++\n"
     ]
    },
    {
     "data": {
      "image/png": "[encoded data removed]",
      "text/plain": [
       "<Figure size 432x288 with 1 Axes>"
      ]
     },
     "metadata": {
      "needs_background": "light"
     },
     "output_type": "display_data"
    }
   ],
   "source": [
    "def extraeYGraficaRespuestas (etiquetas, condicion):\n",
    "    for i, etiqueta in enumerate(etiquetas):\n",
    "        posTest = extraeDatos (etiqueta, condicion)\n",
    "        preTest = extraeDatos (etiquetasPretestDeInteres[i], condicion)\n",
    "        # respuestas = extraeDatos (etiqueta, condicionSG)\n",
    "        # ripostas = extraeDatos (etiqueta, condicionG)\n",
    "        plt.title(f'Respuestas a \"{texto[i]}\" en pre-test y en post-test')\n",
    "        #plt.style.use('fivethirtyeight')\n",
    "        plt.hist(posTest, label='series1', alpha=.8, edgecolor='red')\n",
    "        plt.hist(preTest, label='series2', alpha=0.7, edgecolor='blue')\n",
    "        # plt.hist(respuestas)\n",
    "        # plt.hist(respuestas)\n",
    "        plt.xlabel('En escala de Likert del 1 al 5 (pre-test en naranja, post-test en azul)' )\n",
    "        plt.ylabel('Respuestas totales')\n",
    "        plt.tight_layout()\n",
    "        plt.show()\n",
    "\n",
    "print ('+++++++++++++++++++GRÁFICAS DE LA CONDICIÓN SG+++++++++++++++++++', '\\n'*5)\n",
    "resultados = extraeYGraficaRespuestas (etiquetasPosttestDeInteres, condicionSG)\n",
    "print ('+++++++++++++++++++GRÁFICAS DE LA CONDICIÓN G+++++++++++++++++++', '\\n'*5)\n",
    "resultados2 = extraeYGraficaRespuestas (etiquetasPosttestDeInteres, condicionG)"
   ]
  },
  {
   "cell_type": "markdown",
   "id": "1b963cf5",
   "metadata": {},
   "source": [
    "### Sumas manuales divididas por pre-test, post-test y condición "
   ]
  },
  {
   "cell_type": "code",
   "execution_count": 11,
   "id": "91a7d007",
   "metadata": {},
   "outputs": [],
   "source": [
    "postTestG = [5, 5, 5, 5, 5, 4, 5, 5, 5, 5, 4, 5, 5, 5, 5, 5, 5, 5, 5, 5, 5, 5, 5, 4, 5, 3, 5, 5, 5, 5, 5, 3, 5, 5, 5, 5, 5, 5, 5]\n",
    "pretestG = [1, 3, 4, 5, 5, 4, 4, 5, 1, 5, 2, 3, 5, 2, 4, 5, 1, 1, 4, 5, 4, 3, 5, 4, 1, 5, 5, 2, 5, 2, 4, 3, 5, 2, 1, 5, 4, 5, 2]\n",
    "postTestSG = [5, 5, 5, 5, 2, 4, 4, 4, 5, 1, 5, 5, 5, 4, 5, 5, 3, 4, 3, 5, 1, 5, 2, 5, 2, 5, 1, 2, 3, 2, 1, 2, 2]\n",
    "pretestSG = [3, 5, 1, 4, 1, 3, 3, 4, 3, 1, 2, 5, 3, 3, 3, 4, 5, 4, 4, 2, 3, 2, 4, 5, 1, 3, 1, 3, 3, 3, 3, 2, 2]"
   ]
  },
  {
   "cell_type": "markdown",
   "id": "8e10130c",
   "metadata": {},
   "source": [
    "### Ploteo de las respuestas integradas de los tres reactivos principales en pre- y post-test"
   ]
  },
  {
   "cell_type": "code",
   "execution_count": 12,
   "id": "697543be",
   "metadata": {},
   "outputs": [
    {
     "name": "stdout",
     "output_type": "stream",
     "text": [
      "[12.121212121212121, 21.21212121212121, 9.090909090909092, 15.151515151515152, 42.42424242424242]\n",
      "[15.151515151515152, 15.151515151515152, 39.39393939393939, 18.181818181818183, 12.121212121212121]\n"
     ]
    },
    {
     "data": {
      "image/png": "[encoded data removed]",
      "text/plain": [
       "<Figure size 432x288 with 1 Axes>"
      ]
     },
     "metadata": {
      "needs_background": "light"
     },
     "output_type": "display_data"
    },
    {
     "name": "stdout",
     "output_type": "stream",
     "text": [
      "[0.0, 0.0, 5.128205128205128, 7.6923076923076925, 87.17948717948718]\n",
      "[15.384615384615385, 15.384615384615385, 10.256410256410255, 23.076923076923077, 35.8974358974359]\n"
     ]
    },
    {
     "data": {
      "image/png": "[encoded data removed]",
      "text/plain": [
       "<Figure size 432x288 with 1 Axes>"
      ]
     },
     "metadata": {
      "needs_background": "light"
     },
     "output_type": "display_data"
    }
   ],
   "source": [
    "grades = [ str(i) for i in range (1,6)]\n",
    "\n",
    "def obtieneConteos (lista):\n",
    "    conteos = []\n",
    "    for valor in grades:\n",
    "        sum = 0\n",
    "        for element in lista:\n",
    "            if element == int(valor):\n",
    "                sum += 1\n",
    "        conteos.append((sum/len(lista))*100)\n",
    "        #print (sum)\n",
    "\n",
    "    print (conteos)\n",
    "    return conteos\n",
    "##### Trozo de código para dibujar las respuestas integradas en condición SG\n",
    "postTestSinGestulidad = obtieneConteos(postTestSG)\n",
    "preTestSinGestulidad = obtieneConteos(pretestSG)\n",
    "\n",
    "plt.bar(range(len(grades)), postTestSinGestulidad)\n",
    "plt.bar(range(len(grades)), preTestSinGestulidad, alpha=0.7)\n",
    "plt.title('Respuestas a los reactivos de interés en pre- y post-test en condición SG')\n",
    "plt.xlabel('En escala de Likert de 1 al 5 (pre-test en naranja y post-test en azul)')\n",
    "plt.ylabel('Respuestas totales expresadas en %')\n",
    "plt.xticks(range(len(grades)), grades)\n",
    "plt.show()\n",
    "\n",
    "##### Trozo de código para dibujar las respuestas integradas en condición G\n",
    "postTestConGestulidad = obtieneConteos(postTestG)\n",
    "preTestConGestulidad = obtieneConteos(pretestG)\n",
    "\n",
    "plt.bar(range(len(grades)), postTestConGestulidad)\n",
    "plt.bar(range(len(grades)), preTestConGestulidad, alpha=0.7)\n",
    "plt.title('Respuestas a los reactivos de interés en pre- y post-test en condición G')\n",
    "plt.xlabel('En escala de Likert de 1 al 5 (pre-test en naranja y post-test en azul)')\n",
    "plt.ylabel('Respuestas totales expresadas en %')\n",
    "plt.xticks(range(len(grades)), grades)\n",
    "plt.show()\n"
   ]
  },
  {
   "cell_type": "markdown",
   "id": "5e720179",
   "metadata": {},
   "source": [
    "# Pruebas de estadística inferencial\n",
    "En esta parte se desarrolla la prueba estadística t de muestras independientes"
   ]
  },
  {
   "cell_type": "markdown",
   "id": "1f4e86ff",
   "metadata": {},
   "source": [
    "### Importación de los módulos necesarios y asignación de datos por condición a variables"
   ]
  },
  {
   "cell_type": "code",
   "execution_count": 13,
   "id": "e45ff369",
   "metadata": {},
   "outputs": [
    {
     "name": "stdout",
     "output_type": "stream",
     "text": [
      "    CondG  CondSG\n",
      "0      15    12.0\n",
      "1      15    15.0\n",
      "2      15    11.0\n",
      "3      15    15.0\n",
      "4      15     8.0\n",
      "5      12     9.0\n",
      "6      15    11.0\n",
      "7      15     9.0\n",
      "8      15    11.0\n",
      "9      15     4.0\n",
      "10     13    12.0\n",
      "11     15     NaN\n",
      "12     13     NaN\n"
     ]
    }
   ],
   "source": [
    "import pandas as pd\n",
    "import math\n",
    "###Se pasan los datos de los promedios de respuesta de los  participantes a un dataframe de pandas\n",
    "sujetos = pd.read_csv('smokerOrNot.csv')\n",
    "print (sujetos)"
   ]
  },
  {
   "cell_type": "code",
   "execution_count": 14,
   "id": "3278896a",
   "metadata": {},
   "outputs": [],
   "source": [
    "###Se asignan los datos de cada condición a una serie\n",
    "sg = sujetos['CondSG']\n",
    "g = sujetos['CondG']"
   ]
  },
  {
   "cell_type": "markdown",
   "id": "7f999afc",
   "metadata": {},
   "source": [
    "### Obtención de las medias, las medidas de desviación y los cuadrados de éstas para determinar la varianza"
   ]
  },
  {
   "cell_type": "code",
   "execution_count": 15,
   "id": "136feeb4",
   "metadata": {},
   "outputs": [
    {
     "name": "stdout",
     "output_type": "stream",
     "text": [
      "La media de las respuestas dadas por los candidatos expuestos a la condición SG es:  10.636363636363637\n",
      "La media de las respuestas dadas por los candidatos expuestos a la condición G es:  14.461538461538462\n",
      "\n",
      "\n",
      "\n",
      "\n"
     ]
    }
   ],
   "source": [
    "#Se sacan las medias de cada una de las series\n",
    "sgmean = sg.mean() #media de las respuestas dadas por los sujetos en la condición SG\n",
    "gmean = g.mean() #media de las respuestas dadas por los sujetos en la condición G\n",
    "\n",
    "print('La media de las respuestas dadas por los candidatos expuestos a la condición SG es: ',sgmean)\n",
    "print('La media de las respuestas dadas por los candidatos expuestos a la condición G es: ',gmean)\n",
    "print ('\\n'*3)"
   ]
  },
  {
   "cell_type": "code",
   "execution_count": 16,
   "id": "e4c69cc9",
   "metadata": {},
   "outputs": [
    {
     "name": "stdout",
     "output_type": "stream",
     "text": [
      "    CondG  CondSG  Desviacion_SG  Desviacion_SG_Al_Cuadrado  Desviacion_G  \\\n",
      "0      15    12.0       1.363636                   1.859504      0.538462   \n",
      "1      15    15.0       4.363636                  19.041322      0.538462   \n",
      "2      15    11.0       0.363636                   0.132231      0.538462   \n",
      "3      15    15.0       4.363636                  19.041322      0.538462   \n",
      "4      15     8.0      -2.636364                   6.950413      0.538462   \n",
      "5      12     9.0      -1.636364                   2.677686     -2.461538   \n",
      "6      15    11.0       0.363636                   0.132231      0.538462   \n",
      "7      15     9.0      -1.636364                   2.677686      0.538462   \n",
      "8      15    11.0       0.363636                   0.132231      0.538462   \n",
      "9      15     4.0      -6.636364                  44.041322      0.538462   \n",
      "10     13    12.0       1.363636                   1.859504     -1.461538   \n",
      "11     15     NaN            NaN                        NaN      0.538462   \n",
      "12     13     NaN            NaN                        NaN     -1.461538   \n",
      "\n",
      "    Desviación_G_Al_Cuadrado  \n",
      "0                   0.289941  \n",
      "1                   0.289941  \n",
      "2                   0.289941  \n",
      "3                   0.289941  \n",
      "4                   0.289941  \n",
      "5                   6.059172  \n",
      "6                   0.289941  \n",
      "7                   0.289941  \n",
      "8                   0.289941  \n",
      "9                   0.289941  \n",
      "10                  2.136095  \n",
      "11                  0.289941  \n",
      "12                  2.136095  \n",
      "98.54545454545455 es la suma del cuadrado de las desviaciones en condición SG.\n",
      "13.230769230769232 es la suma del cuadrado de las desviaciones en condición G.\n",
      "\n",
      "\n",
      "\n",
      "\n",
      "9.854545454545455 es la varianza de los candidatos expuestos a la condición SG.\n",
      "1.1025641025641026La varianza de los candidatos expuestos a la condición G.\n"
     ]
    }
   ],
   "source": [
    "sg = sujetos['CondSG']\n",
    "#Se saca la desviación de los sujetos en condición SG y se aumenta como columna al dataframe\n",
    "sujetos ['Desviacion_SG'] = [i for i in sg-sgmean]\n",
    "#Se saca la desviación al cuadrado de los sujetos en condición SG para evitar números negativos\n",
    "#y se aumenta como columna al dataframe (df)\n",
    "sujetos ['Desviacion_SG_Al_Cuadrado'] = [i for i in (sg-sgmean)**2]\n",
    "#Se obtiene una serie de la columna aumentada al df en el paso anterior\n",
    "SquareSG = sujetos ['Desviacion_SG_Al_Cuadrado']\n",
    "#print ('longitud de SquareSG: ',len(SquareSG))\n",
    "#Para obtener la varianza de SquareSG se suman los datos y se dividen por el\n",
    "#número de sujetos en esa condición menos uno\n",
    "varianzaSG = SquareSG.sum()/10\n",
    "\n",
    "#Se saca la desviación de los sujetos en condición G y se aumenta como columna al df\n",
    "sujetos ['Desviacion_G'] = [i for i in g-gmean]\n",
    "\n",
    "#Se saca la desviación al cuadrado de los sujetos en condición G para evitar números negativos\n",
    "#y se aumenta como columna al df\n",
    "sujetos ['Desviación_G_Al_Cuadrado'] = [i for i in (g-gmean)**2]\n",
    "\n",
    "#Se imprime el dataframe para ver si tiene todas las columnas necesarias\n",
    "print (sujetos)\n",
    "\n",
    "#Se obtiene una serie de la columna aumentada al df en el paso anterior\n",
    "SquareG = sujetos ['Desviación_G_Al_Cuadrado']\n",
    "\n",
    "#Para obtener la varianza de SquareG se suman los datos y se dividen por el\n",
    "#número de sujetos en esa condición menos uno\n",
    "print (f'{SquareSG.sum()} es la suma del cuadrado de las desviaciones en condición SG.' )\n",
    "print (f'{SquareG.sum()} es la suma del cuadrado de las desviaciones en condición G.', )\n",
    "print ('\\n'*3)\n",
    "varianzaG = SquareG.sum()/12 ###La varianza parece ser el promedio de la desviación estándar al cuadrado\n",
    "print (f'{varianzaSG} es la varianza de los candidatos expuestos a la condición SG.' )\n",
    "print (f'{varianzaG}La varianza de los candidatos expuestos a la condición G.')"
   ]
  },
  {
   "cell_type": "markdown",
   "id": "59fb8a59",
   "metadata": {},
   "source": [
    "### Obtención del valor T calculado, el valor T crítico y comparación de éstos para obtener el resultado final "
   ]
  },
  {
   "cell_type": "code",
   "execution_count": 17,
   "id": "f996b8d3",
   "metadata": {},
   "outputs": [
    {
     "name": "stdout",
     "output_type": "stream",
     "text": [
      "T-calculated es igual a:  3.862669433583081\n"
     ]
    }
   ],
   "source": [
    "#Se aplica la fórmula para obtener el valor t. \"That's the t value associated\n",
    "#with the independent sample t-test\"\n",
    "t = (gmean-sgmean)/(math.sqrt((varianzaG/13)+(varianzaSG/11)))\n",
    "\n",
    "print ('T-calculated es igual a: ',t)"
   ]
  },
  {
   "cell_type": "code",
   "execution_count": 22,
   "id": "84326d4e",
   "metadata": {},
   "outputs": [
    {
     "name": "stdout",
     "output_type": "stream",
     "text": [
      "El t-value calculado es 3.862669433583081, es decir 1.788669433583081 más grande que el criticalTValue de 2.074, por lo tanto, se puede desechar la H0.\n"
     ]
    }
   ],
   "source": [
    "#Se establecen los grados de libertad. \"Sample size 1 plus sample size 2 minus two\"\n",
    "df = 11+13-2\n",
    "#Se establece el valor de referencia para el rango de error aceptable\n",
    "alpha = 0.05\n",
    "#El valor de t crítica se obtiene de una tabla cruzando los grados de libertad con el número alpha\n",
    "criticalTValue = 2.074\n",
    "#Se imprime si se puede o no desechar la H0\n",
    "if t>criticalTValue:\n",
    "    print (f'El t-value calculado es {t}, es decir {t-criticalTValue} más grande que el criticalTValue de {criticalTValue}, por lo tanto, se puede desechar la H0.')\n",
    "else:\n",
    "    print ('No se puede desechar la H0.')"
   ]
  },
  {
   "cell_type": "code",
   "execution_count": null,
   "id": "d561c1d5",
   "metadata": {},
   "outputs": [],
   "source": []
  }
 ],
 "metadata": {
  "kernelspec": {
   "display_name": "Python 3 (ipykernel)",
   "language": "python",
   "name": "python3"
  },
  "language_info": {
   "codemirror_mode": {
    "name": "ipython",
    "version": 3
   },
   "file_extension": ".py",
   "mimetype": "text/x-python",
   "name": "python",
   "nbconvert_exporter": "python",
   "pygments_lexer": "ipython3",
   "version": "3.9.7"
  }
 },
 "nbformat": 4,
 "nbformat_minor": 5
}
