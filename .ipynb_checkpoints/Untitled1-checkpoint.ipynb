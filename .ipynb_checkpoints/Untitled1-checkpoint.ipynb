{
 "cells": [
  {
   "cell_type": "markdown",
   "id": "2dbb7159",
   "metadata": {},
   "source": [
    "# Procesamiento de datos obtenidos en corrida final del experimento sobre gestualidad didáctica\n",
    "\n",
    "José Luis Sánchez G.\n",
    "Maestría en Lingüística aplicada, UNAM\n",
    "jlsanchez@comunidad.unam.mx\n",
    "\n",
    "Ésta es una versión ejecutalbe del procedimiento llevado a cabo para analizar los datos obtenidos en un experimento hecho como parte de una tesis de maestría en Lingüística Aplicada."
   ]
  },
  {
   "cell_type": "markdown",
   "id": "54f9786b",
   "metadata": {},
   "source": [
    "### Importación de módulos"
   ]
  },
  {
   "cell_type": "code",
   "execution_count": 2,
   "id": "2bf43934",
   "metadata": {},
   "outputs": [],
   "source": [
    "### Se importan los módulos de extracción y procesamiento de datos del archivo xml descargado de Qualtrics\n",
    "## Se importa el parser para leer el archivo xml\n",
    "from bs4 import BeautifulSoup\n",
    "## Biblioteca para plotear los resultados\n",
    "from matplotlib import pyplot as plt\n",
    "## Biblioteca para moverse entre directorios\n",
    "import os\n",
    "## Biblioteca para extraer expresiones regulares\n",
    "import re\n",
    "## Biblioteca de python para análisis de datos\n",
    "import pandas\n"
   ]
  },
  {
   "cell_type": "markdown",
   "id": "bb5637fb",
   "metadata": {},
   "source": [
    "### Obtención de las etiquetas de pregunta y los textos de los reactivos principales"
   ]
  },
  {
   "cell_type": "code",
   "execution_count": 9,
   "id": "74788395",
   "metadata": {},
   "outputs": [
    {
     "name": "stdout",
     "output_type": "stream",
     "text": [
      "[' Ich bereite ein Sandwich vor.', ' Johann steht um sechs Uhr auf.', ' Ich ziehe mich schnell an.']\n"
     ]
    }
   ],
   "source": [
    "### Se prepara el dataframe con las preguntas que se utilizarán\n",
    "textoPreguntas = pandas.read_csv('textoPreguntas.csv')\n",
    "## Se obtienen las claves de cada pregunta\n",
    "ID = textoPreguntas['ID']\n",
    "## Se obtiene el texto de las preguntas\n",
    "text = textoPreguntas ['texto']\n",
    "texto1 = text[3]\n",
    "texto2 = text[10]\n",
    "texto3 = text[12]\n",
    "## Se guarda en una lista texto de los tres reactivos principales\n",
    "texto = []\n",
    "texto.append(texto1)\n",
    "texto.append(texto2)\n",
    "texto.append(texto3)\n",
    "\n",
    "print (texto)"
   ]
  },
  {
   "cell_type": "markdown",
   "id": "0380db81",
   "metadata": {},
   "source": [
    "### Apertura y conversión de archivo xml para su lectura por medio del parser "
   ]
  },
  {
   "cell_type": "code",
   "execution_count": 10,
   "id": "1a9813bd",
   "metadata": {},
   "outputs": [],
   "source": [
    "with open ('Gestualidad+didáctica+en+la+enseñanza+de+los+verbos+separables+en+la+clase+de+ALE+Condición+SG_December+16,+2021SinCandidatosQueNoVieronVideo.xml', 'r') as f:\n",
    "     data = f.read()\n",
    "\n",
    "bs_data = BeautifulSoup(data, 'xml')"
   ]
  },
  {
   "cell_type": "markdown",
   "id": "9470a685",
   "metadata": {},
   "source": [
    "### Función para determinar la condición a la que se expusieron los participantes"
   ]
  },
  {
   "cell_type": "code",
   "execution_count": 12,
   "id": "9269ff23",
   "metadata": {},
   "outputs": [
    {
     "name": "stdout",
     "output_type": "stream",
     "text": [
      "CondicionG:  17\n",
      "CondicionSG:  11\n"
     ]
    }
   ],
   "source": [
    "def tellsConditionsAppart():\n",
    "    umstaende = bs_data.find_all('QID202')\n",
    "    condicionG = []\n",
    "    condicionSG = []\n",
    "\n",
    "    etiqueta = 'QID202'\n",
    "\n",
    "    for indice, dato in enumerate(umstaende):\n",
    "        valor = str(dato)\n",
    "        if valor == f'<{etiqueta}>Aus Dortmund.</{etiqueta}>':\n",
    "            condicionSG.append(indice)\n",
    "        elif valor == f'<{etiqueta}>Aus Berlin.</{etiqueta}>':\n",
    "            condicionSG.append(indice)\n",
    "        elif valor == f'<{etiqueta}>Aus Hamburg.</{etiqueta}>':\n",
    "            condicionSG.append(indice)\n",
    "        else:\n",
    "            condicionG.append(indice)\n",
    "    # print ('Participantes en condicion G:', condicionG)\n",
    "    # print ('Participantes en condicion SG:', condicionSG)\n",
    "    return condicionG, condicionSG\n",
    "\n",
    "condicionG, condicionSG = tellsConditionsAppart()\n",
    "\n",
    "print ('CondicionG: ', len(condicionG))\n",
    "print ('CondicionSG: ', len(condicionSG))"
   ]
  },
  {
   "cell_type": "markdown",
   "id": "87900626",
   "metadata": {},
   "source": [
    "### Combina las listas resultantes de candidatos según la condición a la que fueron expuestos"
   ]
  },
  {
   "cell_type": "code",
   "execution_count": 13,
   "id": "ff60ae88",
   "metadata": {},
   "outputs": [
    {
     "name": "stdout",
     "output_type": "stream",
     "text": [
      "Combinada:  [0, 1, 2, 3, 4, 5, 6, 7, 8, 9, 10, 11, 12, 13, 14, 15, 16, 17, 18, 19, 20, 21, 22, 23, 24, 25, 26, 27]\n"
     ]
    }
   ],
   "source": [
    "combinada = condicionG + condicionSG\n",
    "combinada.sort()\n",
    "\n",
    "print ('Combinada: ', combinada)"
   ]
  },
  {
   "cell_type": "markdown",
   "id": "cee50ec4",
   "metadata": {},
   "source": [
    "### Declaración de las etiquetas identificadoras de las tres preguntas de interés en pre- y post-test"
   ]
  },
  {
   "cell_type": "code",
   "execution_count": null,
   "id": "a739696b",
   "metadata": {},
   "outputs": [],
   "source": [
    "# etiquetasPretest = ['QID94_45', 'QID97_1', 'QID95_1', 'QID98_1', 'QID99_1', 'QID100_1',\n",
    "# 'QID101_1', 'QID102_1','QID103_1','QID104_1','QID105_1','QID106_1','QID107_15',\n",
    "# 'QID108_1','QID109_1']\n",
    "\n",
    "etiquetasPretestDeInteres = ['QID98_1','QID105_1','QID107_15']\n",
    "\n",
    "# etiquetasPosttest = ['QID187_45', 'QID188_1', 'QID189_1', 'QID190_1', 'QID191_1',\n",
    "# 'QID192_1', 'QID193_1', 'QID194_1', 'QID195_1', 'QID196_1', 'QID197_1', 'QID198_1',\n",
    "# 'QID199_15', 'QID200_1', 'QID201_1']\n",
    "\n",
    "etiquetasPosttestDeInteres = ['QID190_1','QID197_1','QID199_15']"
   ]
  },
  {
   "cell_type": "markdown",
   "id": "0c7064c7",
   "metadata": {},
   "source": [
    "### Función para extraer las respuestas dadas por los participantes según la condición a la que fueron expuestos"
   ]
  },
  {
   "cell_type": "code",
   "execution_count": 16,
   "id": "f0cde5ad",
   "metadata": {},
   "outputs": [],
   "source": [
    "def extraeDatos (etiqueta, condicion):\n",
    "    respuestas = []\n",
    "    print (etiqueta)\n",
    "    datos = bs_data.find_all(etiqueta)\n",
    "    for indice, dato in enumerate(datos):\n",
    "        if indice in condicion:\n",
    "            valor = str(dato)\n",
    "            print (valor)\n",
    "            #limpio = valor.strip(f'<{etiqueta}>').strip(f'</{etiqueta}>')\n",
    "            if valor == f'<{etiqueta}>1</{etiqueta}>':\n",
    "                respuestas.append(1)\n",
    "            elif valor == f'<{etiqueta}>2</{etiqueta}>':\n",
    "                respuestas.append(2)\n",
    "            elif valor == f'<{etiqueta}>3</{etiqueta}>':\n",
    "                respuestas.append(3)\n",
    "            elif valor == f'<{etiqueta}>4</{etiqueta}>':\n",
    "                respuestas.append(4)        # elif valor == '5':\n",
    "            elif valor == f'<{etiqueta}>5</{etiqueta}>':\n",
    "                respuestas.append(5)\n",
    "            # elif valor == f'<{etiqueta}>\"\"</{etiqueta}>':\n",
    "            #     respuestas.append(0)\n",
    "            # else:\n",
    "            #     pass\n",
    "    print (respuestas)\n",
    "    print ('+++++++++++++++++++++++++++++++')\n",
    "    return respuestas"
   ]
  },
  {
   "cell_type": "markdown",
   "id": "c14c1760",
   "metadata": {},
   "source": [
    "### Programa para extraer y graficar las respuestas"
   ]
  },
  {
   "cell_type": "code",
   "execution_count": 23,
   "id": "3a731cad",
   "metadata": {},
   "outputs": [
    {
     "name": "stdout",
     "output_type": "stream",
     "text": [
      "QID190_1\n",
      "<QID190_1>5</QID190_1>\n",
      "<QID190_1>5</QID190_1>\n",
      "<QID190_1>5</QID190_1>\n",
      "<QID190_1>5</QID190_1>\n",
      "<QID190_1>2</QID190_1>\n",
      "<QID190_1>4</QID190_1>\n",
      "<QID190_1>4</QID190_1>\n",
      "<QID190_1>4</QID190_1>\n",
      "<QID190_1>5</QID190_1>\n",
      "<QID190_1>1</QID190_1>\n",
      "<QID190_1>5</QID190_1>\n",
      "[5, 5, 5, 5, 2, 4, 4, 4, 5, 1, 5]\n",
      "+++++++++++++++++++++++++++++++\n",
      "QID98_1\n",
      "<QID98_1>3</QID98_1>\n",
      "<QID98_1>5</QID98_1>\n",
      "<QID98_1>1</QID98_1>\n",
      "<QID98_1>4</QID98_1>\n",
      "<QID98_1>1</QID98_1>\n",
      "<QID98_1>3</QID98_1>\n",
      "<QID98_1>3</QID98_1>\n",
      "<QID98_1>4</QID98_1>\n",
      "<QID98_1>3</QID98_1>\n",
      "<QID98_1>1</QID98_1>\n",
      "<QID98_1>2</QID98_1>\n",
      "[3, 5, 1, 4, 1, 3, 3, 4, 3, 1, 2]\n",
      "+++++++++++++++++++++++++++++++\n"
     ]
    },
    {
     "data": {
      "image/png": "[encoded data removed]",
      "text/plain": [
       "<Figure size 432x288 with 1 Axes>"
      ]
     },
     "metadata": {
      "needs_background": "light"
     },
     "output_type": "display_data"
    },
    {
     "name": "stdout",
     "output_type": "stream",
     "text": [
      "QID197_1\n",
      "<QID197_1>5</QID197_1>\n",
      "<QID197_1>5</QID197_1>\n",
      "<QID197_1>4</QID197_1>\n",
      "<QID197_1>5</QID197_1>\n",
      "<QID197_1>5</QID197_1>\n",
      "<QID197_1>3</QID197_1>\n",
      "<QID197_1>4</QID197_1>\n",
      "<QID197_1>3</QID197_1>\n",
      "<QID197_1>5</QID197_1>\n",
      "<QID197_1>1</QID197_1>\n",
      "<QID197_1>5</QID197_1>\n",
      "[5, 5, 4, 5, 5, 3, 4, 3, 5, 1, 5]\n",
      "+++++++++++++++++++++++++++++++\n",
      "QID105_1\n",
      "<QID105_1>5</QID105_1>\n",
      "<QID105_1>3</QID105_1>\n",
      "<QID105_1>3</QID105_1>\n",
      "<QID105_1>3</QID105_1>\n",
      "<QID105_1>4</QID105_1>\n",
      "<QID105_1>5</QID105_1>\n",
      "<QID105_1>4</QID105_1>\n",
      "<QID105_1>4</QID105_1>\n",
      "<QID105_1>2</QID105_1>\n",
      "<QID105_1>3</QID105_1>\n",
      "<QID105_1>2</QID105_1>\n",
      "[5, 3, 3, 3, 4, 5, 4, 4, 2, 3, 2]\n",
      "+++++++++++++++++++++++++++++++\n"
     ]
    },
    {
     "data": {
      "image/png": "[encoded data removed]",
      "text/plain": [
       "<Figure size 432x288 with 1 Axes>"
      ]
     },
     "metadata": {
      "needs_background": "light"
     },
     "output_type": "display_data"
    },
    {
     "name": "stdout",
     "output_type": "stream",
     "text": [
      "QID199_15\n",
      "<QID199_15>2</QID199_15>\n",
      "<QID199_15>5</QID199_15>\n",
      "<QID199_15>2</QID199_15>\n",
      "<QID199_15>5</QID199_15>\n",
      "<QID199_15>1</QID199_15>\n",
      "<QID199_15>2</QID199_15>\n",
      "<QID199_15>3</QID199_15>\n",
      "<QID199_15>2</QID199_15>\n",
      "<QID199_15>1</QID199_15>\n",
      "<QID199_15>2</QID199_15>\n",
      "<QID199_15>2</QID199_15>\n",
      "[2, 5, 2, 5, 1, 2, 3, 2, 1, 2, 2]\n",
      "+++++++++++++++++++++++++++++++\n",
      "QID107_15\n",
      "<QID107_15>4</QID107_15>\n",
      "<QID107_15>5</QID107_15>\n",
      "<QID107_15>1</QID107_15>\n",
      "<QID107_15>3</QID107_15>\n",
      "<QID107_15>1</QID107_15>\n",
      "<QID107_15>3</QID107_15>\n",
      "<QID107_15>3</QID107_15>\n",
      "<QID107_15>3</QID107_15>\n",
      "<QID107_15>3</QID107_15>\n",
      "<QID107_15>2</QID107_15>\n",
      "<QID107_15>2</QID107_15>\n",
      "[4, 5, 1, 3, 1, 3, 3, 3, 3, 2, 2]\n",
      "+++++++++++++++++++++++++++++++\n"
     ]
    },
    {
     "data": {
      "image/png": "[encoded data removed]",
      "text/plain": [
       "<Figure size 432x288 with 1 Axes>"
      ]
     },
     "metadata": {
      "needs_background": "light"
     },
     "output_type": "display_data"
    }
   ],
   "source": [
    "def extraeYGraficaRespuestas (etiquetas, condicion):\n",
    "    for i, etiqueta in enumerate(etiquetas):\n",
    "        posTest = extraeDatos (etiqueta, condicion)\n",
    "        preTest = extraeDatos (etiquetasPretestDeInteres[i], condicion)\n",
    "        # respuestas = extraeDatos (etiqueta, condicionSG)\n",
    "        # ripostas = extraeDatos (etiqueta, condicionG)\n",
    "        plt.title(f'Respuestas a \"{texto[i]}\" en pre-test y en post-test')\n",
    "        #plt.style.use('fivethirtyeight')\n",
    "        plt.hist(posTest, label='series1', alpha=.8, edgecolor='red')\n",
    "        plt.hist(preTest, label='series2', alpha=0.7, edgecolor='blue')\n",
    "        # plt.hist(respuestas)\n",
    "        # plt.hist(respuestas)\n",
    "        plt.xlabel('En escala de Likert del 1 al 5 (pre-test en naranja, post-test en azul)' )\n",
    "        plt.ylabel('Respuestas totales')\n",
    "        plt.tight_layout()\n",
    "        plt.show()\n",
    "        \n",
    "resultados = extraeYGraficaRespuestas (etiquetasPosttestDeInteres, condicionSG)"
   ]
  },
  {
   "cell_type": "markdown",
   "id": "1b963cf5",
   "metadata": {},
   "source": [
    "### Sumas manuales divididas por pre-test, post-test y condición "
   ]
  },
  {
   "cell_type": "code",
   "execution_count": 24,
   "id": "91a7d007",
   "metadata": {},
   "outputs": [],
   "source": [
    "postTestG = [5, 5, 5, 5, 5, 4, 5, 5, 5, 5, 4, 5, 5, 5, 5, 5, 5, 5, 5, 5, 5, 5, 5, 4, 5, 3, 5, 5, 5, 5, 5, 3, 5, 5, 5, 5, 5, 5, 5]\n",
    "pretestG = [1, 3, 4, 5, 5, 4, 4, 5, 1, 5, 2, 3, 5, 2, 4, 5, 1, 1, 4, 5, 4, 3, 5, 4, 1, 5, 5, 2, 5, 2, 4, 3, 5, 2, 1, 5, 4, 5, 2]\n",
    "postTestSG = [5, 5, 5, 5, 2, 4, 4, 4, 5, 1, 5, 5, 5, 4, 5, 5, 3, 4, 3, 5, 1, 5, 2, 5, 2, 5, 1, 2, 3, 2, 1, 2, 2]\n",
    "pretestSG = [3, 5, 1, 4, 1, 3, 3, 4, 3, 1, 2, 5, 3, 3, 3, 4, 5, 4, 4, 2, 3, 2, 4, 5, 1, 3, 1, 3, 3, 3, 3, 2, 2]"
   ]
  },
  {
   "cell_type": "markdown",
   "id": "8e10130c",
   "metadata": {},
   "source": [
    "### Ploteo de las respuestas integradas de los tres reactivos principales en pre- y post-test"
   ]
  },
  {
   "cell_type": "code",
   "execution_count": 25,
   "id": "697543be",
   "metadata": {},
   "outputs": [
    {
     "name": "stdout",
     "output_type": "stream",
     "text": [
      "[12.121212121212121, 21.21212121212121, 9.090909090909092, 15.151515151515152, 42.42424242424242]\n",
      "[15.151515151515152, 15.151515151515152, 39.39393939393939, 18.181818181818183, 12.121212121212121]\n"
     ]
    },
    {
     "data": {
      "image/png": "[encoded data removed]",
      "text/plain": [
       "<Figure size 432x288 with 1 Axes>"
      ]
     },
     "metadata": {
      "needs_background": "light"
     },
     "output_type": "display_data"
    },
    {
     "name": "stdout",
     "output_type": "stream",
     "text": [
      "[0.0, 0.0, 5.128205128205128, 7.6923076923076925, 87.17948717948718]\n",
      "[15.384615384615385, 15.384615384615385, 10.256410256410255, 23.076923076923077, 35.8974358974359]\n"
     ]
    },
    {
     "data": {
      "image/png": "[encoded data removed]",
      "text/plain": [
       "<Figure size 432x288 with 1 Axes>"
      ]
     },
     "metadata": {
      "needs_background": "light"
     },
     "output_type": "display_data"
    }
   ],
   "source": [
    "grades = [ str(i) for i in range (1,6)]\n",
    "\n",
    "def obtieneConteos (lista):\n",
    "    conteos = []\n",
    "    for valor in grades:\n",
    "        sum = 0\n",
    "        for element in lista:\n",
    "            if element == int(valor):\n",
    "                sum += 1\n",
    "        conteos.append((sum/len(lista))*100)\n",
    "        #print (sum)\n",
    "\n",
    "    print (conteos)\n",
    "    return conteos\n",
    "##### Trozo de código para dibujar las respuestas integradas en condición SG\n",
    "postTestSinGestulidad = obtieneConteos(postTestSG)\n",
    "preTestSinGestulidad = obtieneConteos(pretestSG)\n",
    "\n",
    "plt.bar(range(len(grades)), postTestSinGestulidad)\n",
    "plt.bar(range(len(grades)), preTestSinGestulidad, alpha=0.7)\n",
    "plt.title('Respuestas a los reactivos de interés en pre- y post-test en condición SG')\n",
    "plt.xlabel('En escala de Likert de 1 al 5 (pre-test en naranja y post-test en azul)')\n",
    "plt.ylabel('Respuestas totales expresadas en %')\n",
    "plt.xticks(range(len(grades)), grades)\n",
    "plt.show()\n",
    "\n",
    "##### Trozo de código para dibujar las respuestas integradas en condición G\n",
    "postTestConGestulidad = obtieneConteos(postTestG)\n",
    "preTestConGestulidad = obtieneConteos(pretestG)\n",
    "\n",
    "plt.bar(range(len(grades)), postTestConGestulidad)\n",
    "plt.bar(range(len(grades)), preTestConGestulidad, alpha=0.7)\n",
    "plt.title('Respuestas a los reactivos de interés en pre- y post-test en condición G')\n",
    "plt.xlabel('En escala de Likert de 1 al 5 (pre-test en naranja y post-test en azul)')\n",
    "plt.ylabel('Respuestas totales expresadas en %')\n",
    "plt.xticks(range(len(grades)), grades)\n",
    "plt.show()\n"
   ]
  },
  {
   "cell_type": "code",
   "execution_count": null,
   "id": "132b7899",
   "metadata": {},
   "outputs": [],
   "source": []
  }
 ],
 "metadata": {
  "kernelspec": {
   "display_name": "Python 3 (ipykernel)",
   "language": "python",
   "name": "python3"
  },
  "language_info": {
   "codemirror_mode": {
    "name": "ipython",
    "version": 3
   },
   "file_extension": ".py",
   "mimetype": "text/x-python",
   "name": "python",
   "nbconvert_exporter": "python",
   "pygments_lexer": "ipython3",
   "version": "3.9.7"
  }
 },
 "nbformat": 4,
 "nbformat_minor": 5
}
