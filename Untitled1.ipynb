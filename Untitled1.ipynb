{
 "cells": [
  {
   "cell_type": "markdown",
   "id": "2dbb7159",
   "metadata": {},
   "source": [
    "# Procesamiento de datos obtenidos en corrida final del experimento sobre gestualidad didáctica"
   ]
  },
  {
   "cell_type": "code",
   "execution_count": 1,
   "id": "2bf43934",
   "metadata": {},
   "outputs": [],
   "source": [
    "### Se importan los módulos de extracción y procesamiento de datos del archivo xml descargado de Qualtrics\n",
    "## Parser de xml\n",
    "from bs4 import BeautifulSoup\n",
    "## Biblioteca para plotear los resultados\n",
    "from matplotlib import pyplot as plt\n",
    "## Biblioteca para moverse entre directorios\n",
    "import os\n",
    "## Biblioteca para extraer expresiones regulares\n",
    "import re\n",
    "## Biblioteca de python para análisis de datos\n",
    "import pandas\n"
   ]
  },
  {
   "cell_type": "code",
   "execution_count": null,
   "id": "74788395",
   "metadata": {},
   "outputs": [],
   "source": []
  }
 ],
 "metadata": {
  "kernelspec": {
   "display_name": "Python 3 (ipykernel)",
   "language": "python",
   "name": "python3"
  },
  "language_info": {
   "codemirror_mode": {
    "name": "ipython",
    "version": 3
   },
   "file_extension": ".py",
   "mimetype": "text/x-python",
   "name": "python",
   "nbconvert_exporter": "python",
   "pygments_lexer": "ipython3",
   "version": "3.10.2"
  }
 },
 "nbformat": 4,
 "nbformat_minor": 5
}
